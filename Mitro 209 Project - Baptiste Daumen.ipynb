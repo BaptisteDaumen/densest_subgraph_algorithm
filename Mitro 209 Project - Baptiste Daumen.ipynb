{
 "cells": [
  {
   "attachments": {},
   "cell_type": "markdown",
   "metadata": {},
   "source": [
    "# Mitro 209 Project by Baptiste Daumen"
   ]
  },
  {
   "attachments": {},
   "cell_type": "markdown",
   "metadata": {},
   "source": [
    "## Densest subgraph approximation algorithm"
   ]
  },
  {
   "attachments": {},
   "cell_type": "markdown",
   "metadata": {},
   "source": [
    "### Import "
   ]
  },
  {
   "cell_type": "code",
   "execution_count": 1,
   "metadata": {},
   "outputs": [],
   "source": [
    "import pandas as pd\n",
    "import pickle\n",
    "import matplotlib.pyplot as plt\n",
    "from scipy.stats import pearsonr\n",
    "import timeit\n",
    "import numpy as np"
   ]
  },
  {
   "attachments": {},
   "cell_type": "markdown",
   "metadata": {},
   "source": [
    "### Graph class"
   ]
  },
  {
   "cell_type": "code",
   "execution_count": 2,
   "metadata": {},
   "outputs": [],
   "source": [
    "n_cours = 10\n",
    "m_cours = 16\n",
    "G_cours = [[1,2,4,5], [0,2,3,4,5], [0,1,4,5], [1,6,7,8,9], [0,1,2,5,6], [0,1,2,4], [3,4], [3], [3], [3]]"
   ]
  },
  {
   "attachments": {},
   "cell_type": "markdown",
   "metadata": {},
   "source": [
    "### Algorithm to find the approximation of a densest subgraph"
   ]
  },
  {
   "cell_type": "code",
   "execution_count": 3,
   "metadata": {},
   "outputs": [],
   "source": [
    "# The documentation of the algorithm is in the report\n",
    "\n",
    "def densest_subgraph(G) :\n",
    "\n",
    "    n = len(G) \n",
    "\n",
    "    nb_of_edges_updated = 0 \n",
    "\n",
    "    nb_of_vertices_updated = n \n",
    "\n",
    "    rho_G_updated = 0 \n",
    "\n",
    "    min_degree = 0 \n",
    "\n",
    "    number_of_steps = 0 \n",
    "    \n",
    "    index_vertices_to_erase = 0 \n",
    "\n",
    "    vertices_erased = [] \n",
    "    \n",
    "    vertices_by_degree = [] \n",
    "\n",
    "    vertices_data = []\n",
    "\n",
    "    for i in range(n): \n",
    "\n",
    "        vertices_data.append([len(G[i]), 0, 0]) \n",
    "        vertices_by_degree.append([]) \n",
    "           \n",
    "    for i in range(n): \n",
    "\n",
    "        vertices_data[i][2] = len(vertices_by_degree[len(G[i])]) \n",
    "        vertices_by_degree[len(G[i])].append(i) \n",
    "    \n",
    "    for i in range(n): \n",
    "\n",
    "        nb_of_edges_updated += vertices_data[i][0] \n",
    "\n",
    "    nb_of_edges_updated = nb_of_edges_updated // 2 \n",
    "\n",
    "    min_degree = min(i for i in range(n) if vertices_by_degree[i] != []) \n",
    "\n",
    "    rho_G_updated = nb_of_edges_updated / nb_of_vertices_updated \n",
    "\n",
    "\n",
    "    while (nb_of_edges_updated > 0): \n",
    "\n",
    "        number_of_steps += 1 \n",
    "\n",
    "        vertex_processed = vertices_by_degree[min_degree][-1] \n",
    "            \n",
    "        vertices_erased.append(vertex_processed) \n",
    "        vertices_data[vertex_processed][1] = 1 \n",
    "\n",
    "        vertices_by_degree[min_degree].pop() \n",
    "    \n",
    "        for i in range(len(G[vertex_processed])): \n",
    "            e = G[vertex_processed][i]\n",
    "            if vertices_data[e][1] == 0: \n",
    "                vertices_by_degree[vertices_data[e][0]][vertices_data[e][2]] = vertices_by_degree[vertices_data[e][0]][-1] \n",
    "                vertices_data[vertices_by_degree[vertices_data[e][0]][-1]][2] = vertices_data[e][2] \n",
    "                vertices_by_degree[vertices_data[e][0]].pop() \n",
    "                vertices_by_degree[vertices_data[e][0]-1].append(e) \n",
    "                vertices_data[e][0] -= 1 \n",
    "                vertices_data[e][2] = len(vertices_by_degree[vertices_data[e][0]]) - 1\n",
    "                \n",
    "        nb_of_vertices_updated -= 1 \n",
    "        nb_of_edges_updated -= min_degree \n",
    "\n",
    "        if(rho_G_updated < nb_of_edges_updated / nb_of_vertices_updated): \n",
    "            rho_G_updated = nb_of_edges_updated / nb_of_vertices_updated \n",
    "            index_vertices_to_erase = number_of_steps  \n",
    "        \n",
    "\n",
    "        if min_degree != 0 : \n",
    "            start_point = min_degree - 1 \n",
    "        else : \n",
    "            start_point = 0 \n",
    "\n",
    "        for i in range (start_point, n): \n",
    "                if(vertices_by_degree[i] != []):\n",
    "                    min_degree = i\n",
    "                    break\n",
    "        \n",
    "\n",
    "    vertices_erased.append(vertices_by_degree[min_degree][0]) \n",
    "\n",
    "    return len(vertices_erased[index_vertices_to_erase::]), rho_G_updated"
   ]
  },
  {
   "attachments": {},
   "cell_type": "markdown",
   "metadata": {},
   "source": [
    "### Graph Social circles: Facebook"
   ]
  },
  {
   "cell_type": "code",
   "execution_count": 4,
   "metadata": {},
   "outputs": [],
   "source": [
    "n_1 = 4039\n",
    "m_1 = 88234\n",
    "\n",
    "\"\"\"\n",
    "\n",
    "G_1 = []\n",
    "for i in range(n_1):\n",
    "    G_1.append([])\n",
    "\n",
    "df_1 = pd.read_csv('facebook_combined.txt', sep=' ', header=None, dtype=int)\n",
    "\n",
    "for index, row in df_1.iterrows():\n",
    "    G_1[row[0]].append(row[1])\n",
    "    G_1[row[1]].append(row[0])\n",
    "\n",
    "# Open a file for writing\n",
    "with open(\"facebook_combined.pkl\", \"wb\") as file:\n",
    "    pickle.dump(G_1, file)\n",
    "    \n",
    "\"\"\"\n",
    "\n",
    "# Open a file for reading\n",
    "with open(\"facebook_combined.pkl\", \"rb\") as file:\n",
    "    G_1 = pickle.load(file)"
   ]
  },
  {
   "attachments": {},
   "cell_type": "markdown",
   "metadata": {},
   "source": [
    "### Graph EU email communication network"
   ]
  },
  {
   "cell_type": "code",
   "execution_count": 5,
   "metadata": {},
   "outputs": [],
   "source": [
    "n_2 = 265214\n",
    "m_2 = 420045\n",
    "\n",
    "\"\"\"\n",
    "\n",
    "G_2 = []\n",
    "for i in range(n_2):\n",
    "    G_2.append([])\n",
    "\n",
    "df_2 = pd.read_csv(\"Email-EuAll.txt\", delimiter=\"\\t\", header=None, names=[\"FromNodeId\", \"ToNodeId\"], skiprows=4, dtype=int)\n",
    "\n",
    "for index, row in df_2.iterrows():\n",
    "    G_2[int(row[0])].append(int(row[1]))\n",
    "\n",
    "with open(\"Email-EuAll.pkl\", \"wb\") as file:\n",
    "    pickle.dump(G_2, file)\n",
    "\n",
    "\"\"\"\n",
    "\n",
    "# Open a file for reading\n",
    "with open(\"Email-EuAll.pkl\", \"rb\") as file:\n",
    "    G_2 = pickle.load(file)"
   ]
  },
  {
   "attachments": {},
   "cell_type": "markdown",
   "metadata": {},
   "source": [
    "### Graph Gnutella peer-to-peer network, August 31 2002"
   ]
  },
  {
   "cell_type": "code",
   "execution_count": 6,
   "metadata": {},
   "outputs": [],
   "source": [
    "n_3 = 62586\n",
    "m_3 = 147892\n",
    "\n",
    "\"\"\"\n",
    "\n",
    "G_3 = []\n",
    "for i in range(n_3):\n",
    "    G_3.append([])\n",
    "\n",
    "df_3 = pd.read_csv(\"p2p-Gnutella31.txt\", delimiter=\"\\t\", header=None, skiprows=4, dtype=int)\n",
    "\n",
    "for index, row in df_3.iterrows():\n",
    "    G_3[row[0]].append(row[1])\n",
    "\n",
    "# Open a file for writing\n",
    "with open(\"p2p-Gnutella31.pkl\", \"wb\") as file:\n",
    "    pickle.dump(G_3, file)\n",
    "    \n",
    "\"\"\"\n",
    "\n",
    "# Open a file for reading\n",
    "with open(\"p2p-Gnutella31.pkl\", \"rb\") as file:\n",
    "    G_3 = pickle.load(file)"
   ]
  },
  {
   "attachments": {},
   "cell_type": "markdown",
   "metadata": {},
   "source": [
    "### Graph Slashdot social network, November 2008"
   ]
  },
  {
   "cell_type": "code",
   "execution_count": 7,
   "metadata": {},
   "outputs": [],
   "source": [
    "n_4 = 77360\n",
    "m_4 = 905468\n",
    "\n",
    "\"\"\"\n",
    "\n",
    "G_4 = []\n",
    "for i in range(n_4):\n",
    "    G_4.append([])\n",
    "\n",
    "df_4 = pd.read_csv(\"Slashdot0811.txt\", delimiter = \"\\t\", sep=' ', header=None, skiprows=4, dtype=int)\n",
    "\n",
    "for index, row in df_4.iterrows():\n",
    "    G_4[row[0]].append(row[1])\n",
    "\n",
    "# Open a file for writing\n",
    "with open(\"Slashdot0811.pkl\", \"wb\") as file:\n",
    "    pickle.dump(G_4, file)\n",
    "\n",
    "\"\"\"\n",
    "\n",
    "with open(\"Slashdot0811.pkl\", \"rb\") as file:\n",
    "    G_4 = pickle.load(file)"
   ]
  },
  {
   "attachments": {},
   "cell_type": "markdown",
   "metadata": {},
   "source": [
    "### Graph Deezer Europe Social Network"
   ]
  },
  {
   "cell_type": "code",
   "execution_count": 8,
   "metadata": {},
   "outputs": [],
   "source": [
    "n_5 = 28281\n",
    "m_5 = 92752\n",
    "\n",
    "\"\"\"\n",
    "\n",
    "G_5 = []\n",
    "for i in range(n_5):\n",
    "    G_5.append([])\n",
    "\n",
    "df_5 = pd.read_csv(\"deezer_europe_edges.txt\", delimiter =\"\\t\", sep=' ', header=None, dtype=int, skiprows=1)\n",
    "\n",
    "for index, row in df_5.iterrows():\n",
    "    G_5[row[0]].append(row[1])\n",
    "    G_5[row[1]].append(row[0])\n",
    "\n",
    "# Open a file for writing\n",
    "with open(\"deezer_europe_edges.pkl\", \"wb\") as file:\n",
    "    pickle.dump(G_5, file)\n",
    "\n",
    "\"\"\"\n",
    "with open(\"deezer_europe_edges.pkl\", \"rb\") as file:\n",
    "    G_5 = pickle.load(file)"
   ]
  },
  {
   "attachments": {},
   "cell_type": "markdown",
   "metadata": {},
   "source": [
    "### Results of the algorithm on the five graphs"
   ]
  },
  {
   "cell_type": "code",
   "execution_count": 9,
   "metadata": {},
   "outputs": [
    {
     "name": "stdout",
     "output_type": "stream",
     "text": [
      "(202, 77.34653465346534)\n",
      "\n",
      "(205730, 0.9317412502717307)\n",
      "\n",
      "(8656, 4.906697395069488)\n",
      "\n",
      "(3262, 25.695055594984623)\n",
      "\n",
      "(150, 8.533333333333333)\n",
      "\n"
     ]
    }
   ],
   "source": [
    "print(densest_subgraph(G_1))\n",
    "print(\"\")\n",
    "\n",
    "print(densest_subgraph(G_2))\n",
    "print(\"\")\n",
    "\n",
    "print(densest_subgraph(G_3))\n",
    "print(\"\")\n",
    "\n",
    "print(densest_subgraph(G_4))\n",
    "print(\"\")\n",
    "\n",
    "print(densest_subgraph(G_5))\n",
    "print(\"\")"
   ]
  },
  {
   "attachments": {},
   "cell_type": "markdown",
   "metadata": {},
   "source": [
    "### Benchmarks"
   ]
  },
  {
   "cell_type": "code",
   "execution_count": 10,
   "metadata": {},
   "outputs": [],
   "source": [
    "number_of_test = 1 # Number of tests of the algorithm (can be modified)\n",
    "\n",
    "running_time_1 = timeit.timeit(\"densest_subgraph(G_1)\", setup=\"from __main__ import densest_subgraph, G_1\", number=number_of_test) / number_of_test\n",
    "\n",
    "running_time_2 = timeit.timeit(\"densest_subgraph(G_2)\", setup=\"from __main__ import densest_subgraph, G_2\", number=number_of_test) / number_of_test\n",
    "\n",
    "running_time_3 = timeit.timeit(\"densest_subgraph(G_3)\", setup=\"from __main__ import densest_subgraph, G_3\", number=number_of_test) / number_of_test\n",
    "\n",
    "running_time_4 = timeit.timeit(\"densest_subgraph(G_4)\", setup=\"from __main__ import densest_subgraph, G_4\", number=number_of_test) / number_of_test\n",
    "\n",
    "running_time_5 = timeit.timeit(\"densest_subgraph(G_5)\", setup=\"from __main__ import densest_subgraph, G_5\", number=number_of_test) / number_of_test"
   ]
  },
  {
   "attachments": {},
   "cell_type": "markdown",
   "metadata": {},
   "source": [
    "### Plot\n"
   ]
  },
  {
   "cell_type": "code",
   "execution_count": 11,
   "metadata": {},
   "outputs": [
    {
     "data": {
      "image/png": "[encoded data removed]",
      "text/plain": [
       "<Figure size 432x288 with 1 Axes>"
      ]
     },
     "metadata": {
      "needs_background": "light"
     },
     "output_type": "display_data"
    }
   ],
   "source": [
    "x = [n_1 + m_1, n_2 + m_2, n_3 + m_3, n_4 + m_4, n_5 + m_5]\n",
    "y = [running_time_1, running_time_2, running_time_3, running_time_4, running_time_5]\n",
    "\n",
    "corr, _ = pearsonr(x, y)\n",
    "plt.title('Execution time of the algorithm as a function of the graph size')\n",
    "\n",
    "coefficients = np.polyfit(x, y, 1)\n",
    "\n",
    "f = np.poly1d(coefficients)\n",
    "\n",
    "plt.scatter(x, y, color='b')\n",
    "plt.plot(x, f(x), color='k')\n",
    "plt.xlabel('|V| + |E|')\n",
    "plt.ylabel('Seconds')\n",
    "\n",
    "plt.legend(['Correlation coefficient: {:.3f}'.format(corr)], loc='upper left')\n",
    "\n",
    "plt.show()"
   ]
  }
 ],
 "metadata": {
  "kernelspec": {
   "display_name": "Python 3.7.4 ('base')",
   "language": "python",
   "name": "python3"
  },
  "language_info": {
   "codemirror_mode": {
    "name": "ipython",
    "version": 3
   },
   "file_extension": ".py",
   "mimetype": "text/x-python",
   "name": "python",
   "nbconvert_exporter": "python",
   "pygments_lexer": "ipython3",
   "version": "3.7.4"
  },
  "orig_nbformat": 4,
  "vscode": {
   "interpreter": {
    "hash": "ad2bdc8ecc057115af97d19610ffacc2b4e99fae6737bb82f5d7fb13d2f2c186"
   }
  }
 },
 "nbformat": 4,
 "nbformat_minor": 2
}
